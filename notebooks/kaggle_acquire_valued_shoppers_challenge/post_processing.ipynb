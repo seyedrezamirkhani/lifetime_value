{
 "cells": [
  {
   "cell_type": "markdown",
   "metadata": {},
   "source": [
    "This notebook prepares the customer_level_data_company_{company}.csv files for use in the postgres-clv project\n",
    "\n",
    "For each company:\n",
    " 1. company_id column is added\n",
    " 2. the id column is renamed to customer_id\n",
    " 3. a new customer_level_data_company_{company}.csv file is generated and stored in the OUTPUT_FOLDER"
   ]
  },
  {
   "cell_type": "code",
   "execution_count": null,
   "metadata": {
    "id": "KObdQwyXH2mC"
   },
   "outputs": [],
   "source": [
    "import os\n",
    "import numpy as np\n",
    "import pandas as pd\n",
    "import tqdm\n",
    "import multiprocessing"
   ]
  },
  {
   "cell_type": "code",
   "execution_count": null,
   "metadata": {
    "id": "K41RmAfNXtu_"
   },
   "outputs": [],
   "source": [
    "pd.options.mode.chained_assignment = None  # default='warn'"
   ]
  },
  {
   "cell_type": "markdown",
   "metadata": {
    "id": "DoN-PRvNuIti"
   },
   "source": [
    "## Global variables"
   ]
  },
  {
   "cell_type": "code",
   "execution_count": null,
   "metadata": {
    "id": "3GGpDbxd3S5L"
   },
   "outputs": [],
   "source": [
    "COMPANYS = [\n",
    "    '10000', '101200010', '101410010', '101600010', '102100020', '102700020',\n",
    "    '102840020', '103000030', '103338333', '103400030', '103600030',\n",
    "    '103700030', '103800030', '104300040', '104400040', '104470040',\n",
    "    '104900040', '105100050', '105150050', '107800070'\n",
    "]"
   ]
  },
  {
   "cell_type": "code",
   "execution_count": null,
   "metadata": {},
   "outputs": [],
   "source": [
    "DATA_FOLDER = './tmp/acquire-valued-shoppers-challenge' # @param { isTemplate: true, type: 'string'}"
   ]
  },
  {
   "cell_type": "code",
   "execution_count": null,
   "metadata": {},
   "outputs": [],
   "source": [
    "OUTPUT_FOLDER = './tmp/acquire-valued-shoppers-challenge/postgres-clv' # @param { isTemplate: true, type: 'string'}"
   ]
  },
  {
   "cell_type": "markdown",
   "metadata": {
    "id": "9ra4bfwCVwKn"
   },
   "source": [
    "### Postprocess data"
   ]
  },
  {
   "cell_type": "code",
   "execution_count": null,
   "metadata": {
    "id": "Bx80J6Ztferj"
   },
   "outputs": [],
   "source": [
    "def process(company):\n",
    "    print(\"Process company {}\".format(company))\n",
    "    customer_level_data_file = f\"{DATA_FOLDER}/customer_level_data_company_{company}.csv\"\n",
    "    customer_level_df = pd.read_csv(customer_level_data_file)\n",
    "\n",
    "    # Rename 'id' to 'customer_id'\n",
    "    customer_level_df.rename(columns={'id': 'customer_id'}, inplace=True)\n",
    "\n",
    "    # Insert 'company_id' as the first column\n",
    "    customer_level_df.insert(0, 'company_id', company)\n",
    "\n",
    "    updated_customer_level_data_file = f\"{OUTPUT_FOLDER}/customer_level_data_company_{company}.csv\"\n",
    "    \n",
    "    # Save the updated DataFrame to CSV without the index    \n",
    "    customer_level_df.to_csv(updated_customer_level_data_file, index=False)\n"
   ]
  },
  {
   "cell_type": "code",
   "execution_count": null,
   "metadata": {
    "id": "88dVPdt5QWpu"
   },
   "outputs": [],
   "source": [
    "p = multiprocessing.Pool(multiprocessing.cpu_count())\n",
    "_ = p.map(process, COMPANYS)"
   ]
  },
  {
   "cell_type": "code",
   "execution_count": null,
   "metadata": {},
   "outputs": [],
   "source": []
  }
 ],
 "metadata": {
  "colab": {
   "collapsed_sections": [],
   "last_runtime": {
    "build_target": "",
    "kind": "local"
   },
   "name": "preprocess_data.ipynb",
   "provenance": []
  },
  "kernelspec": {
   "display_name": "Python 3 (ipykernel)",
   "language": "python",
   "name": "python3"
  },
  "language_info": {
   "codemirror_mode": {
    "name": "ipython",
    "version": 3
   },
   "file_extension": ".py",
   "mimetype": "text/x-python",
   "name": "python",
   "nbconvert_exporter": "python",
   "pygments_lexer": "ipython3",
   "version": "3.12.7"
  }
 },
 "nbformat": 4,
 "nbformat_minor": 4
}
